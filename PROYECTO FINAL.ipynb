{
 "cells": [
  {
   "cell_type": "markdown",
   "id": "4fbab01a",
   "metadata": {},
   "source": [
    "# PROYECTO FINAL CIENCIA DE DATOS APLICADA"
   ]
  },
  {
   "cell_type": "markdown",
   "id": "c2040700",
   "metadata": {},
   "source": [
    "#Este notebook se utilizará para la realización del proyecto final"
   ]
  },
  {
   "cell_type": "code",
   "execution_count": 1,
   "id": "3447062e",
   "metadata": {},
   "outputs": [],
   "source": [
    "import pandas as pd\n",
    "import numpy as np"
   ]
  },
  {
   "cell_type": "code",
   "execution_count": 3,
   "id": "9ea4157b",
   "metadata": {},
   "outputs": [
    {
     "name": "stdout",
     "output_type": "stream",
     "text": [
      "Hola, Proyecto Final del Curso\n"
     ]
    }
   ],
   "source": [
    "print('Hola, Proyecto Final del Curso')"
   ]
  }
 ],
 "metadata": {
  "kernelspec": {
   "display_name": "Python 3",
   "language": "python",
   "name": "python3"
  },
  "language_info": {
   "codemirror_mode": {
    "name": "ipython",
    "version": 3
   },
   "file_extension": ".py",
   "mimetype": "text/x-python",
   "name": "python",
   "nbconvert_exporter": "python",
   "pygments_lexer": "ipython3",
   "version": "3.8.8"
  }
 },
 "nbformat": 4,
 "nbformat_minor": 5
}
